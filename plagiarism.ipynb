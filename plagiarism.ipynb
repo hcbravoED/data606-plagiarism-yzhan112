{
 "cells": [
  {
   "cell_type": "markdown",
   "metadata": {},
   "source": [
    "# Project 1: MinHash and finding similar items\n",
    "\n",
    "## Part 1: Jaccard Similarity and Shingles"
   ]
  },
  {
   "cell_type": "code",
   "execution_count": 1,
   "metadata": {},
   "outputs": [],
   "source": [
    "# this piece of code is here to help wiht development using python module `plagiarism_lib`\n",
    "%load_ext autoreload\n",
    "%autoreload 2\n",
    "import numpy as np"
   ]
  },
  {
   "cell_type": "markdown",
   "metadata": {},
   "source": [
    "The `plagiarism_lib` module includes a function to shingle documents. Here is an example of how to use it:"
   ]
  },
  {
   "cell_type": "code",
   "execution_count": 2,
   "metadata": {},
   "outputs": [
    {
     "name": "stdout",
     "output_type": "stream",
     "text": [
      "{'in', 'nt', 'he', 'at', 'eh', 'ha', 'ec', 'ca', 'th', 'ti'}\n"
     ]
    }
   ],
   "source": [
    "import plagiarism_lib.article_db as art_db\n",
    "\n",
    "shingles = art_db._shingle_text('The cat in the hat', 2)\n",
    "print(shingles)"
   ]
  },
  {
   "cell_type": "markdown",
   "metadata": {},
   "source": [
    "Use this function to answer the following questions"
   ]
  },
  {
   "cell_type": "code",
   "execution_count": 3,
   "metadata": {},
   "outputs": [
    {
     "data": {
      "text/plain": [
       "0.4782608695652174"
      ]
     },
     "execution_count": 3,
     "metadata": {},
     "output_type": "execute_result"
    }
   ],
   "source": [
    "# question 1: What is the jaccard similarity of these two sentences using 2-shingles:\n",
    "s1 = \"I would drink black tea\"\n",
    "s2 = \"I would drink green tea\"\n",
    "\n",
    "sh1 = art_db._shingle_text(s1, 2)\n",
    "sh2 = art_db._shingle_text(s2, 2)\n",
    "\n",
    "len(sh1.intersection(sh2)) / len(sh1.union(sh2))"
   ]
  },
  {
   "cell_type": "code",
   "execution_count": 4,
   "metadata": {},
   "outputs": [
    {
     "data": {
      "text/plain": [
       "1.0"
      ]
     },
     "execution_count": 4,
     "metadata": {},
     "output_type": "execute_result"
    }
   ],
   "source": [
    "# question 2: What is the jaccard similarity of these two sentences using 2-shingles:\n",
    "s1 = \"I would drink green tea but I would not drink black tea\"\n",
    "s2 = \"I would not drink green tea but I would drink black tea\"\n",
    "\n",
    "sh1 = art_db._shingle_text(s1, 2)\n",
    "sh2 = art_db._shingle_text(s2, 2)\n",
    "\n",
    "len(sh1.intersection(sh2)) / len(sh1.union(sh2))"
   ]
  },
  {
   "cell_type": "code",
   "execution_count": null,
   "metadata": {},
   "outputs": [],
   "source": []
  },
  {
   "cell_type": "code",
   "execution_count": 5,
   "metadata": {},
   "outputs": [
    {
     "name": "stdout",
     "output_type": "stream",
     "text": [
      "[1.0, 1.0, 1.0, 1.0, 1.0, 1.0, 1.0, 0.8974358974358975, 0.7560975609756098, 0.627906976744186, 0.5111111111111111, 0.40425531914893614, 0.30612244897959184, 0.24, 0.2, 0.16, 0.14285714285714285, 0.125, 0.10638297872340426, 0.08695652173913043]\n"
     ]
    }
   ],
   "source": [
    "# question 3, what is the smallest shingle length we need to use \n",
    "# to distinguish these two sentences ----> 8\n",
    "def js_temp(n):\n",
    "    return len(art_db._shingle_text(s1,n).intersection(art_db._shingle_text(s2,n)))/len(art_db._shingle_text(s1,n).union(art_db._shingle_text(s2,n)))\n",
    "js = [js_temp(n) for n in range(20)]\n",
    "print(js)"
   ]
  },
  {
   "cell_type": "markdown",
   "metadata": {},
   "source": [
    "## Fetch data\n",
    "\n",
    "Run the following piece of code to fetch data to use in the project, and to setup experiment code"
   ]
  },
  {
   "cell_type": "code",
   "execution_count": 6,
   "metadata": {},
   "outputs": [],
   "source": [
    "import plagiarism_lib.fetch_data as fetch\n",
    "import plagiarism_lib.jaccard_experiment as jaccard_exp\n",
    "\n",
    "import pandas as pd"
   ]
  },
  {
   "cell_type": "code",
   "execution_count": 7,
   "metadata": {},
   "outputs": [],
   "source": [
    "# fetch small dataset from data repository\n",
    "DATA_PATH = 'data'\n",
    "\n",
    "fetch.fetch_data(path=DATA_PATH, maxsize=1000)"
   ]
  },
  {
   "cell_type": "code",
   "execution_count": 8,
   "metadata": {},
   "outputs": [],
   "source": [
    "DATA_PATH = 'data'\n",
    "train_file = DATA_PATH + '/articles_1000.train'\n",
    "truth_file = DATA_PATH + '/articles_1000.truth'\n",
    "\n",
    "import os\n",
    "\n",
    "RESDIR_PATH = 'result_data'\n",
    "if not os.path.isdir(RESDIR_PATH):\n",
    "    os.mkdir(RESDIR_PATH)\n",
    "    \n",
    "jaccard_exp_csv = RESDIR_PATH + '/jaccard_exp_res.csv'"
   ]
  },
  {
   "cell_type": "markdown",
   "metadata": {},
   "source": [
    "## Jaccard similarity\n",
    "\n",
    "**TODO** Finish implementing the function `plagiarism_lib.jaccard._jaccard_similarity` to compute the Jaccard Similarity of two sets.\n",
    "\n",
    "Once you do that run the next chunk to perform an experiment on the effect of shard-length $k$ on Jaccard similarity of\n",
    "plagiarism instances versus instances that are not plagiarized.\n",
    "\n",
    "Make sure you set `RUN_JACCARD_EXP = True` to get your experiment data\n"
   ]
  },
  {
   "cell_type": "code",
   "execution_count": 15,
   "metadata": {},
   "outputs": [
    {
     "name": "stdout",
     "output_type": "stream",
     "text": [
      "true_articles is{'t980', 't1088', 't1297', 't8642', 't5015', 't2023', 't4638', 't5248', 't2839', 't3268', 't9303', 't7998', 't1952', 't3466', 't7563', 't2535', 't1768', 't2957', 't7111', 't3495'}\n",
      "false_partners is ['t7709', 't1586', 't4946', 't7053', 't3774', 't5207', 't9349', 't4497', 't599', 't7056', 't8872', 't7260', 't5976', 't5607', 't4005', 't2346', 't5378', 't9939', 't8474', 't4769']\n",
      "false_pairs is [('t980', 't7709'), ('t1088', 't1586'), ('t1297', 't4946'), ('t8642', 't7053'), ('t5015', 't3774'), ('t2023', 't5207'), ('t4638', 't9349'), ('t5248', 't4497'), ('t2839', 't599'), ('t3268', 't7056'), ('t9303', 't8872'), ('t7998', 't7260'), ('t1952', 't5976'), ('t3466', 't5607'), ('t7563', 't4005'), ('t2535', 't2346'), ('t1768', 't5378'), ('t2957', 't9939'), ('t7111', 't8474'), ('t3495', 't4769')]\n",
      "Processing data for k= 2\n"
     ]
    },
    {
     "ename": "TypeError",
     "evalue": "'dict' object is not callable",
     "output_type": "error",
     "traceback": [
      "\u001b[0;31m---------------------------------------------------------------------------\u001b[0m",
      "\u001b[0;31mTypeError\u001b[0m                                 Traceback (most recent call last)",
      "\u001b[0;32m<ipython-input-15-17fc182eb69d>\u001b[0m in \u001b[0;36m<module>\u001b[0;34m()\u001b[0m\n\u001b[1;32m      3\u001b[0m \u001b[0mRUN_JACCARD_EXP\u001b[0m \u001b[0;34m=\u001b[0m \u001b[0;32mTrue\u001b[0m\u001b[0;34m\u001b[0m\u001b[0;34m\u001b[0m\u001b[0m\n\u001b[1;32m      4\u001b[0m \u001b[0;32mif\u001b[0m \u001b[0mRUN_JACCARD_EXP\u001b[0m\u001b[0;34m:\u001b[0m\u001b[0;34m\u001b[0m\u001b[0;34m\u001b[0m\u001b[0m\n\u001b[0;32m----> 5\u001b[0;31m     \u001b[0mexp_res\u001b[0m \u001b[0;34m=\u001b[0m \u001b[0mjaccard_exp\u001b[0m\u001b[0;34m.\u001b[0m\u001b[0mrun_experiment\u001b[0m\u001b[0;34m(\u001b[0m\u001b[0mtrain_file\u001b[0m\u001b[0;34m,\u001b[0m \u001b[0mtruth_file\u001b[0m\u001b[0;34m)\u001b[0m\u001b[0;34m\u001b[0m\u001b[0;34m\u001b[0m\u001b[0m\n\u001b[0m\u001b[1;32m      6\u001b[0m     \u001b[0mexp_res\u001b[0m\u001b[0;34m.\u001b[0m\u001b[0mto_csv\u001b[0m\u001b[0;34m(\u001b[0m\u001b[0mjaccard_exp_csv\u001b[0m\u001b[0;34m,\u001b[0m \u001b[0mindex\u001b[0m\u001b[0;34m=\u001b[0m\u001b[0;32mFalse\u001b[0m\u001b[0;34m)\u001b[0m\u001b[0;34m\u001b[0m\u001b[0;34m\u001b[0m\u001b[0m\n\u001b[1;32m      7\u001b[0m \u001b[0;32melse\u001b[0m\u001b[0;34m:\u001b[0m\u001b[0;34m\u001b[0m\u001b[0;34m\u001b[0m\u001b[0m\n",
      "\u001b[0;32m~/Desktop/DATA606/pp1/data606_plagiarism/plagiarism_lib/jaccard_experiment.py\u001b[0m in \u001b[0;36mrun_experiment\u001b[0;34m(train_file, truth_file, kvals)\u001b[0m\n\u001b[1;32m     62\u001b[0m \u001b[0;34m\u001b[0m\u001b[0m\n\u001b[1;32m     63\u001b[0m         \u001b[0mjacc\u001b[0m \u001b[0;34m=\u001b[0m \u001b[0mJaccard\u001b[0m\u001b[0;34m(\u001b[0m\u001b[0;34m)\u001b[0m\u001b[0;34m\u001b[0m\u001b[0;34m\u001b[0m\u001b[0m\n\u001b[0;32m---> 64\u001b[0;31m         \u001b[0mjacc\u001b[0m\u001b[0;34m.\u001b[0m\u001b[0mcompute_similarity\u001b[0m\u001b[0;34m(\u001b[0m\u001b[0mshingled_data\u001b[0m\u001b[0;34m,\u001b[0m \u001b[0mdocids\u001b[0m\u001b[0;34m=\u001b[0m\u001b[0malldocs\u001b[0m\u001b[0;34m)\u001b[0m\u001b[0;34m\u001b[0m\u001b[0;34m\u001b[0m\u001b[0m\n\u001b[0m\u001b[1;32m     65\u001b[0m \u001b[0;34m\u001b[0m\u001b[0m\n\u001b[1;32m     66\u001b[0m         \u001b[0mktp\u001b[0m\u001b[0;34m,\u001b[0m \u001b[0mkfp\u001b[0m \u001b[0;34m=\u001b[0m \u001b[0m_get_kstats\u001b[0m\u001b[0;34m(\u001b[0m\u001b[0mtruth_pairs\u001b[0m\u001b[0;34m,\u001b[0m \u001b[0mfalse_pairs\u001b[0m\u001b[0;34m,\u001b[0m \u001b[0mjacc\u001b[0m\u001b[0;34m)\u001b[0m\u001b[0;34m\u001b[0m\u001b[0;34m\u001b[0m\u001b[0m\n",
      "\u001b[0;32m~/Desktop/DATA606/pp1/data606_plagiarism/plagiarism_lib/jaccard.py\u001b[0m in \u001b[0;36mcompute_similarity\u001b[0;34m(self, shingled_data, docids)\u001b[0m\n\u001b[1;32m     27\u001b[0m         \u001b[0;32mfor\u001b[0m \u001b[0mc\u001b[0m \u001b[0;32min\u001b[0m \u001b[0mcombinations\u001b[0m\u001b[0;34m(\u001b[0m\u001b[0mndocs\u001b[0m\u001b[0;34m,\u001b[0m \u001b[0;36m2\u001b[0m\u001b[0;34m)\u001b[0m\u001b[0;34m:\u001b[0m\u001b[0;34m\u001b[0m\u001b[0;34m\u001b[0m\u001b[0m\n\u001b[1;32m     28\u001b[0m             \u001b[0mkey\u001b[0m \u001b[0;34m=\u001b[0m \u001b[0msorted\u001b[0m\u001b[0;34m(\u001b[0m\u001b[0mc\u001b[0m\u001b[0;34m)\u001b[0m\u001b[0;34m\u001b[0m\u001b[0;34m\u001b[0m\u001b[0m\n\u001b[0;32m---> 29\u001b[0;31m             \u001b[0mjs\u001b[0m \u001b[0;34m=\u001b[0m \u001b[0m_jaccard_similarity\u001b[0m\u001b[0;34m(\u001b[0m\u001b[0mshingled_dic\u001b[0m\u001b[0;34m(\u001b[0m\u001b[0mc\u001b[0m\u001b[0;34m[\u001b[0m\u001b[0;36m0\u001b[0m\u001b[0;34m]\u001b[0m\u001b[0;34m)\u001b[0m\u001b[0;34m,\u001b[0m \u001b[0mshingled_dic\u001b[0m\u001b[0;34m(\u001b[0m\u001b[0mc\u001b[0m\u001b[0;34m[\u001b[0m\u001b[0;36m1\u001b[0m\u001b[0;34m]\u001b[0m\u001b[0;34m)\u001b[0m\u001b[0;34m)\u001b[0m\u001b[0;34m\u001b[0m\u001b[0;34m\u001b[0m\u001b[0m\n\u001b[0m\u001b[1;32m     30\u001b[0m             \u001b[0mself\u001b[0m\u001b[0;34m.\u001b[0m\u001b[0m_jaccard_dict\u001b[0m\u001b[0;34m[\u001b[0m\u001b[0mkey\u001b[0m\u001b[0;34m]\u001b[0m \u001b[0;34m=\u001b[0m \u001b[0mjs\u001b[0m\u001b[0;34m\u001b[0m\u001b[0;34m\u001b[0m\u001b[0m\n\u001b[1;32m     31\u001b[0m         '''\n",
      "\u001b[0;31mTypeError\u001b[0m: 'dict' object is not callable"
     ]
    }
   ],
   "source": [
    "# run this if needed\n",
    "# change jaccard_exp.run to jaccard_exp.run_experiment\n",
    "RUN_JACCARD_EXP = True\n",
    "if RUN_JACCARD_EXP:\n",
    "    exp_res = jaccard_exp.run_experiment(train_file, truth_file)\n",
    "    exp_res.to_csv(jaccard_exp_csv, index=False)\n",
    "else:\n",
    "    exp_res = pd.read_csv(jaccard_exp_csv)"
   ]
  },
  {
   "cell_type": "markdown",
   "metadata": {},
   "source": [
    "The following code makes a plot with $k$ in the x-axis and average Jaccard similarity in the y-axis with two lines:\n",
    "one for plagiarism instances, one for instances that are not plagiarism."
   ]
  },
  {
   "cell_type": "code",
   "execution_count": 237,
   "metadata": {},
   "outputs": [
    {
     "name": "stdout",
     "output_type": "stream",
     "text": [
      "      k   variable     value\n",
      "0     2   sim_true  0.998023\n",
      "1     5   sim_true  0.987634\n",
      "2    10   sim_true  0.980397\n",
      "3    20   sim_true  0.964772\n",
      "4    40   sim_true  0.933452\n",
      "5    60   sim_true  0.902132\n",
      "6   120   sim_true  0.809188\n",
      "7     2  sim_false  0.603499\n",
      "8     5  sim_false  0.035575\n",
      "9    10  sim_false  0.002836\n",
      "10   20  sim_false  0.000328\n",
      "11   40  sim_false  0.000000\n",
      "12   60  sim_false  0.000000\n",
      "13  120  sim_false  0.000000\n"
     ]
    },
    {
     "data": {
      "image/png": "[encoded data removed]",
      "text/plain": [
       "<Figure size 432x288 with 1 Axes>"
      ]
     },
     "metadata": {
      "needs_background": "light"
     },
     "output_type": "display_data"
    }
   ],
   "source": [
    "%matplotlib inline\n",
    "\n",
    "import matplotlib.pyplot as plt\n",
    "\n",
    "# start here just to make plot\n",
    "plot_df = exp_res.melt(id_vars=['k'])\n",
    "\n",
    "print(plot_df)\n",
    "fig, ax = plt.subplots()\n",
    "labels = []\n",
    "\n",
    "for key, grp in plot_df.groupby('variable'):\n",
    "    ax = grp.plot(ax=ax, kind='line', x='k', y='value')\n",
    "    labels.append(key)\n",
    "lines, _ = ax.get_legend_handles_labels()\n",
    "ax.legend(lines, labels, loc='best')\n",
    "plt.show()"
   ]
  },
  {
   "cell_type": "markdown",
   "metadata": {},
   "source": [
    "**TODO**: Comment on what you observe from this experiment."
   ]
  },
  {
   "cell_type": "markdown",
   "metadata": {},
   "source": [
    "**ANS**: As shingle size increases, the jaccard similarity of true decreases linearly and jaccard similary of false decreases exponentially."
   ]
  },
  {
   "cell_type": "markdown",
   "metadata": {},
   "source": [
    "## Part 2: MinHash and Jaccard Similarity\n",
    "\n",
    "Load article data, preprocess it and shingle articles with length $k=10$\n",
    "\n"
   ]
  },
  {
   "cell_type": "code",
   "execution_count": 238,
   "metadata": {},
   "outputs": [],
   "source": [
    "from plagiarism_lib.article_db import ArticleDB\n",
    "\n",
    "artdb = ArticleDB(train_file)\n",
    "exp_data = artdb.shingle_data(k=10)"
   ]
  },
  {
   "cell_type": "markdown",
   "metadata": {},
   "source": [
    "Compute Jaccard similarities for pairs of articles in corpus. Set `RUN_MAKE_JS_DF=True` to prepare data on Jaccard similarity for our experiment."
   ]
  },
  {
   "cell_type": "code",
   "execution_count": 239,
   "metadata": {},
   "outputs": [],
   "source": [
    "import plagiarism_lib.minhash_experiment as minhash_exp\n",
    "import pandas as pd\n",
    "\n",
    "js_csv_file = RESDIR_PATH + '/js_df.csv'\n",
    "\n",
    "# Switch True/False to run as needed\n",
    "RUN_MAKE_JS_DF = True\n",
    "\n",
    "if RUN_MAKE_JS_DF:\n",
    "    exp_df = minhash_exp.make_js_df(exp_data, artdb._docids)\n",
    "    exp_df.to_csv(js_csv_file, index=False)\n",
    "else:\n",
    "    exp_df = pd.read_csv(js_csv_file)\n",
    "    \n",
    "#print(exp_df.head(20))"
   ]
  },
  {
   "cell_type": "markdown",
   "metadata": {},
   "source": [
    "**TODO**: Finish implementing function `plagiarism_lib.minhash._make_minhash_sigmatrix` to construct the minhash signature matrix of the document collection.\n",
    "\n",
    "**TODO**: Finish implementing function `plagiarism_lib.minhash.MinHash.get_similarity` to compute the minhash estimate of Jaccard similarity given two minhash signatures."
   ]
  },
  {
   "cell_type": "markdown",
   "metadata": {},
   "source": [
    "Once you have completed the above todos, let's compute minhash similarity matrices with varying number of hash functions and compute Jaccard similarity estimates. Set `RUN_MAKE_MH_DF=True` and run the following chunk."
   ]
  },
  {
   "cell_type": "code",
   "execution_count": 240,
   "metadata": {},
   "outputs": [
    {
     "name": "stdout",
     "output_type": "stream",
     "text": [
      "Doing minhash for  10  hashes\n",
      "Doing minhash for  20  hashes\n",
      "Doing minhash for  50  hashes\n",
      "Doing minhash for  100  hashes\n",
      "Doing minhash for  1000  hashes\n"
     ]
    }
   ],
   "source": [
    "mh_csv_file = RESDIR_PATH + '/mh_df.csv'\n",
    "hash_vals = [10, 20, 50, 100, 1000]\n",
    "#hash_vals = [10]\n",
    "RUN_MAKE_MH_DF = True\n",
    "if RUN_MAKE_MH_DF:\n",
    "    minhash_exp.run(exp_data, exp_df, hash_vals=hash_vals)\n",
    "    exp_df.to_csv(mh_csv_file, index=False)\n",
    "else:\n",
    "    exp_df = pd.read_csv(mh_csv_file)"
   ]
  },
  {
   "cell_type": "code",
   "execution_count": 250,
   "metadata": {},
   "outputs": [
    {
     "name": "stdout",
     "output_type": "stream",
     "text": [
      "         doci   docj        js     mh_10     mh_20     mh_50    mh_100  \\\n",
      "57231    t570   t572  0.104348  0.000000  0.081081  0.030928  0.075269   \n",
      "97745    t980  t2023  0.977778  1.000000  0.904762  0.960784  0.960784   \n",
      "114897  t1088  t5015  0.982414  1.000000  0.904762  1.000000  0.941748   \n",
      "139852  t1297  t4638  0.979133  0.818182  1.000000  1.000000  0.980198   \n",
      "169423  t1700  t1702  0.142267  0.000000  0.052632  0.052632  0.075269   \n",
      "177843  t1768  t5248  0.982677  1.000000  0.904762  0.923077  0.980198   \n",
      "178473  t1952  t3495  0.976231  1.000000  0.904762  1.000000  1.000000   \n",
      "229635  t2535  t8642  0.982836  1.000000  1.000000  0.960784  0.960784   \n",
      "231961  t2644  t2664  0.102898  0.111111  0.081081  0.098901  0.041667   \n",
      "242732  t2839  t9303  0.984149  1.000000  1.000000  1.000000  0.941748   \n",
      "247551  t2957  t7111  0.983667  1.000000  1.000000  1.000000  0.980198   \n",
      "255600  t3043  t3360  0.101089  0.111111  0.025641  0.052632  0.041667   \n",
      "272699  t3174  t3175  0.102117  0.052632  0.111111  0.075269  0.063830   \n",
      "274082  t3176  t3388  0.111412  0.052632  0.052632  0.041667  0.052632   \n",
      "277191  t3268  t7998  0.974826  1.000000  1.000000  0.960784  0.960784   \n",
      "303023  t3466  t7563  0.980254  0.818182  1.000000  0.923077  1.000000   \n",
      "327521  t3797  t3827  0.120653  0.052632  0.052632  0.052632  0.069519   \n",
      "343539  t4028  t4029  0.162329  0.000000  0.142857  0.075269  0.129944   \n",
      "418900  t5553  t5555  0.101035  0.000000  0.025641  0.052632  0.063830   \n",
      "431607  t5950  t5954  0.109099  0.052632  0.025641  0.063830  0.036269   \n",
      "443221  t6223  t6225  0.147635  0.052632  0.000000  0.052632  0.111111   \n",
      "474750  t7582  t7586  0.126787  0.000000  0.052632  0.041667  0.075269   \n",
      "478385  t7931  t7932  0.115961  0.052632  0.025641  0.063830  0.047120   \n",
      "490456  t8557  t8559  0.148936  0.052632  0.081081  0.075269  0.081081   \n",
      "490985  t8571  t8572  0.104192  0.111111  0.111111  0.086957  0.063830   \n",
      "491022  t8571  t8872  0.102740  0.111111  0.052632  0.052632  0.047120   \n",
      "491115  t8572  t8573  0.103348  0.176471  0.081081  0.098901  0.063830   \n",
      "491151  t8572  t8872  0.112389  0.176471  0.052632  0.063830  0.036269   \n",
      "491152  t8572  t8873  0.100702  0.111111  0.081081  0.098901  0.058201   \n",
      "494454  t8821  t8827  0.137537  0.000000  0.052632  0.052632  0.075269   \n",
      "495222  t8872  t8873  0.100613  0.111111  0.081081  0.075269  0.041667   \n",
      "497852  t9533  t9539  0.101517  0.111111  0.025641  0.052632  0.041667   \n",
      "\n",
      "         mh_1000   diff_10   diff_20   diff_50  diff_100  diff_1000  \n",
      "57231   0.057641  0.010888  0.000541  0.005390  0.000846   0.002181  \n",
      "97745   0.951220  0.000494  0.005331  0.000289  0.000289   0.000705  \n",
      "114897  0.966568  0.000309  0.006030  0.000309  0.001654   0.000251  \n",
      "139852  0.968504  0.025905  0.000435  0.000435  0.000001   0.000113  \n",
      "169423  0.085187  0.020240  0.008035  0.008035  0.004489   0.003258  \n",
      "177843  0.964637  0.000300  0.006071  0.003552  0.000006   0.000325  \n",
      "178473  0.951220  0.000565  0.005108  0.000565  0.000565   0.000626  \n",
      "229635  0.945525  0.000295  0.000295  0.000486  0.000486   0.001392  \n",
      "231961  0.067806  0.000067  0.000476  0.000016  0.003749   0.001231  \n",
      "242732  0.978239  0.000251  0.000251  0.000251  0.001798   0.000035  \n",
      "247551  0.968504  0.000267  0.000267  0.000267  0.000012   0.000230  \n",
      "255600  0.056524  0.000100  0.005692  0.002348  0.003531   0.001986  \n",
      "272699  0.058201  0.002449  0.000081  0.000721  0.001466   0.001929  \n",
      "274082  0.055409  0.003455  0.003455  0.004864  0.003455   0.003136  \n",
      "277191  0.947420  0.000634  0.000634  0.000197  0.000197   0.000751  \n",
      "303023  0.945525  0.026267  0.000390  0.003269  0.000390   0.001206  \n",
      "327521  0.065530  0.004627  0.004627  0.004627  0.002615   0.003038  \n",
      "343539  0.097093  0.026351  0.000379  0.007579  0.001049   0.004256  \n",
      "418900  0.061571  0.010208  0.005684  0.002343  0.001384   0.001557  \n",
      "431607  0.061571  0.003189  0.006965  0.002049  0.005304   0.002259  \n",
      "443221  0.082251  0.009026  0.021796  0.009026  0.001334   0.004275  \n",
      "474750  0.066098  0.016075  0.005499  0.007245  0.002654   0.003683  \n",
      "478385  0.066098  0.004011  0.008158  0.002718  0.004739   0.002486  \n",
      "490456  0.078167  0.009275  0.004604  0.005427  0.004604   0.005008  \n",
      "490985  0.050972  0.000048  0.000048  0.000297  0.001629   0.002832  \n",
      "491022  0.049344  0.000070  0.002511  0.002511  0.003094   0.002851  \n",
      "491115  0.055409  0.005347  0.000496  0.000020  0.001562   0.002298  \n",
      "491151  0.058792  0.004106  0.003571  0.002358  0.005794   0.002873  \n",
      "491152  0.050972  0.000108  0.000385  0.000003  0.001806   0.002473  \n",
      "494454  0.071237  0.018916  0.007209  0.007209  0.003877   0.004396  \n",
      "495222  0.046049  0.000110  0.000382  0.000642  0.003475   0.002977  \n",
      "497852  0.054852  0.000092  0.005757  0.002390  0.003582   0.002178  \n"
     ]
    }
   ],
   "source": [
    "print(exp_df.loc[exp_df['js'] > 0.1, :])"
   ]
  },
  {
   "cell_type": "markdown",
   "metadata": {},
   "source": [
    "The following chunk computes the error of minhash similarity estimates. We are going to use that to see what the effect of the number of hashes used in the minhash signature affects the error of the MinHash estimate of Jaccard similarity.\n"
   ]
  },
  {
   "cell_type": "code",
   "execution_count": 251,
   "metadata": {},
   "outputs": [],
   "source": [
    "rmse_df = minhash_exp.post_process_df(exp_df, hash_vals)"
   ]
  },
  {
   "cell_type": "markdown",
   "metadata": {},
   "source": [
    "The following chunk plots root mean squared error between minhash JS estimate and exact Jaccard similarity"
   ]
  },
  {
   "cell_type": "code",
   "execution_count": 252,
   "metadata": {},
   "outputs": [
    {
     "data": {
      "image/png": "[encoded data removed]",
      "text/plain": [
       "<Figure size 432x288 with 1 Axes>"
      ]
     },
     "metadata": {
      "needs_background": "light"
     },
     "output_type": "display_data"
    }
   ],
   "source": [
    "%matplotlib inline\n",
    "\n",
    "import matplotlib.pyplot as plt\n",
    "\n",
    "\n",
    "#fig, ax = plt.subplots()\n",
    "rmse_df.plot(x='h',y='rmse')#, ax=ax)\n",
    "plt.show()"
   ]
  },
  {
   "cell_type": "markdown",
   "metadata": {},
   "source": [
    "**TODO**: Comment on the effect of the number of hashes used in the minhash signature matrix and the error of the MinHash estimate."
   ]
  },
  {
   "cell_type": "markdown",
   "metadata": {},
   "source": [
    "**ANS:** As the signiture size increases from 10 to 20, 20 to 50, 50 to 100, and 100 to 1000, the degree of changes between minhash JS estimate and exact Jaccard similarity decreases.  "
   ]
  },
  {
   "cell_type": "markdown",
   "metadata": {},
   "source": [
    "## Part 3: LSH\n",
    "\n",
    "Prepare article database for training file, using $k=10$ for shingles"
   ]
  },
  {
   "cell_type": "code",
   "execution_count": 16,
   "metadata": {},
   "outputs": [],
   "source": [
    "import plagiarism_lib.lsh_experiment as lsh_exp\n",
    "from plagiarism_lib.article_db import ArticleDB\n",
    "from plagiarism_lib.minhash import invert_shingles, MinHash\n",
    "from pathlib import Path\n",
    "\n",
    "numdocs = 1000\n",
    "trainfile = DATA_PATH + '/articles_%d.train' % numdocs"
   ]
  },
  {
   "cell_type": "markdown",
   "metadata": {},
   "source": [
    "a = np.full([12,12], np.inf)\n",
    "r=3\n",
    "b=2\n",
    "print(a)\n",
    "print(a[1:3,3])\n",
    "print(a[r*b:r*b+r,5].tolist())"
   ]
  },
  {
   "cell_type": "code",
   "execution_count": 17,
   "metadata": {},
   "outputs": [
    {
     "name": "stdout",
     "output_type": "stream",
     "text": [
      "Preparing Data\n"
     ]
    }
   ],
   "source": [
    "k = 10\n",
    "print(\"Preparing Data\")\n",
    "artdb = ArticleDB(trainfile)\n",
    "inv_data, docids = invert_shingles(artdb.shingle_data(k))"
   ]
  },
  {
   "cell_type": "markdown",
   "metadata": {},
   "source": [
    "Compute the minhash signature matrix with 100 rows (hash functions)"
   ]
  },
  {
   "cell_type": "code",
   "execution_count": 18,
   "metadata": {},
   "outputs": [
    {
     "name": "stdout",
     "output_type": "stream",
     "text": [
      "Loading MH signature matrix from file\n"
     ]
    }
   ],
   "source": [
    "num_hash = 100\n",
    "mh_mat_file = RESDIR_PATH + '/mh_mat_%d_%d_%d.npy' % (numdocs, k, num_hash)\n",
    "\n",
    "mh = MinHash(num_hash)\n",
    "if Path(mh_mat_file).is_file():\n",
    "    print(\"Loading MH signature matrix from file\")\n",
    "    mh.from_file(docids, mh_mat_file)\n",
    "else:\n",
    "    print(\"Creating minhash matrix with %d hashes\" % num_hash)\n",
    "    mh.make_matrix((inv_data, docids), inverted=True) \n",
    "    mh.save_matrix(mh_mat_file)"
   ]
  },
  {
   "cell_type": "markdown",
   "metadata": {},
   "source": [
    "**TODO**: Finish implementing function `plagiarism_lib.lsh._do_lsh` to implement Locality Sensitive Hashing.\n",
    "\n",
    "Once that is done, run an experiment of using LSH with desired similarity threshold values to detect plagiarism. Set `RUN_LSH_EXP=True` and run the following chunk."
   ]
  },
  {
   "cell_type": "code",
   "execution_count": 42,
   "metadata": {},
   "outputs": [
    {
     "name": "stdout",
     "output_type": "stream",
     "text": [
      "Doing LSH with t= 0.01\n",
      "Using 100 bands for 100 rows\n",
      "[0, 1]\n",
      "[1, 2]\n",
      "[2, 3]\n",
      "[3, 4]\n",
      "[4, 5]\n",
      "[5, 6]\n",
      "[6, 7]\n",
      "[7, 8]\n",
      "[8, 9]\n",
      "[9, 10]\n",
      "[10, 11]\n",
      "[11, 12]\n",
      "[12, 13]\n",
      "[13, 14]\n",
      "[14, 15]\n",
      "[15, 16]\n",
      "[16, 17]\n",
      "[17, 18]\n",
      "[18, 19]\n",
      "[19, 20]\n",
      "[20, 21]\n",
      "[21, 22]\n",
      "[22, 23]\n",
      "[23, 24]\n",
      "[24, 25]\n",
      "[25, 26]\n",
      "[26, 27]\n",
      "[27, 28]\n",
      "[28, 29]\n",
      "[29, 30]\n",
      "[30, 31]\n",
      "[31, 32]\n",
      "[32, 33]\n",
      "[33, 34]\n",
      "[34, 35]\n",
      "[35, 36]\n",
      "[36, 37]\n",
      "[37, 38]\n",
      "[38, 39]\n",
      "[39, 40]\n",
      "[40, 41]\n",
      "[41, 42]\n",
      "[42, 43]\n",
      "[43, 44]\n",
      "[44, 45]\n",
      "[45, 46]\n",
      "[46, 47]\n",
      "[47, 48]\n",
      "[48, 49]\n",
      "[49, 50]\n",
      "[50, 51]\n",
      "[51, 52]\n",
      "[52, 53]\n",
      "[53, 54]\n",
      "[54, 55]\n",
      "[55, 56]\n",
      "[56, 57]\n",
      "[57, 58]\n",
      "[58, 59]\n",
      "[59, 60]\n",
      "[60, 61]\n",
      "[61, 62]\n",
      "[62, 63]\n",
      "[63, 64]\n",
      "[64, 65]\n",
      "[65, 66]\n",
      "[66, 67]\n",
      "[67, 68]\n",
      "[68, 69]\n",
      "[69, 70]\n",
      "[70, 71]\n",
      "[71, 72]\n",
      "[72, 73]\n",
      "[73, 74]\n",
      "[74, 75]\n",
      "[75, 76]\n",
      "[76, 77]\n",
      "[77, 78]\n",
      "[78, 79]\n",
      "[79, 80]\n",
      "[80, 81]\n",
      "[81, 82]\n",
      "[82, 83]\n",
      "[83, 84]\n",
      "[84, 85]\n",
      "[85, 86]\n",
      "[86, 87]\n",
      "[87, 88]\n",
      "[88, 89]\n",
      "[89, 90]\n",
      "[90, 91]\n",
      "[91, 92]\n",
      "[92, 93]\n",
      "[93, 94]\n",
      "[94, 95]\n",
      "[95, 96]\n",
      "[96, 97]\n",
      "[97, 98]\n",
      "[98, 99]\n",
      "[99, 100]\n",
      "b is 100, r is 1.0, band is 99, start is 99\n",
      "  returned: 116110, tp=2.0000, prec=0.0000, rec=0.2000\n",
      "Doing LSH with t= 0.05\n",
      "Using 71 bands for 100 rows\n",
      "[0, 1]\n",
      "[1, 2]\n",
      "[2, 4]\n",
      "[4, 5]\n",
      "[5, 7]\n",
      "[7, 8]\n",
      "[8, 9]\n",
      "[9, 11]\n",
      "[11, 12]\n",
      "[12, 14]\n",
      "[14, 15]\n",
      "[15, 16]\n",
      "[16, 18]\n",
      "[18, 19]\n",
      "[19, 21]\n",
      "[21, 22]\n",
      "[22, 23]\n",
      "[23, 25]\n",
      "[25, 26]\n",
      "[26, 28]\n",
      "[28, 29]\n",
      "[29, 30]\n",
      "[30, 32]\n",
      "[32, 33]\n",
      "[33, 35]\n",
      "[35, 36]\n",
      "[36, 38]\n",
      "[38, 39]\n",
      "[39, 40]\n",
      "[40, 42]\n",
      "[42, 43]\n",
      "[43, 45]\n",
      "[45, 46]\n",
      "[46, 47]\n",
      "[47, 49]\n",
      "[49, 50]\n",
      "[50, 52]\n",
      "[52, 53]\n",
      "[53, 54]\n",
      "[54, 56]\n",
      "[56, 57]\n",
      "[57, 59]\n",
      "[59, 60]\n",
      "[60, 61]\n",
      "[61, 63]\n",
      "[63, 64]\n",
      "[64, 66]\n",
      "[66, 67]\n",
      "[67, 69]\n",
      "[69, 70]\n",
      "[70, 71]\n",
      "[71, 73]\n",
      "[73, 74]\n",
      "[74, 76]\n",
      "[76, 77]\n",
      "[77, 78]\n",
      "[78, 80]\n",
      "[80, 81]\n",
      "[81, 83]\n",
      "[83, 84]\n",
      "[84, 85]\n",
      "[85, 87]\n",
      "[87, 88]\n",
      "[88, 90]\n",
      "[90, 91]\n",
      "[91, 92]\n",
      "[92, 94]\n",
      "[94, 95]\n",
      "[95, 97]\n",
      "[97, 98]\n",
      "[98, 100]\n",
      "b is 71, r is 1.408450704225352, band is 70, start is 98\n",
      "  returned: 71906, tp=2.0000, prec=0.0000, rec=0.2000\n",
      "Doing LSH with t= 0.1\n",
      "Using 57 bands for 100 rows\n",
      "[0, 1]\n",
      "[1, 3]\n",
      "[3, 5]\n",
      "[5, 7]\n",
      "[7, 8]\n",
      "[8, 10]\n",
      "[10, 12]\n",
      "[12, 14]\n",
      "[14, 15]\n",
      "[15, 17]\n",
      "[17, 19]\n",
      "[19, 21]\n",
      "[21, 22]\n",
      "[22, 24]\n",
      "[24, 26]\n",
      "[26, 28]\n",
      "[28, 29]\n",
      "[29, 31]\n",
      "[31, 33]\n",
      "[33, 35]\n",
      "[35, 36]\n",
      "[36, 38]\n",
      "[38, 40]\n",
      "[40, 42]\n",
      "[42, 43]\n",
      "[43, 45]\n",
      "[45, 47]\n",
      "[47, 49]\n",
      "[49, 50]\n",
      "[50, 52]\n",
      "[52, 54]\n",
      "[54, 56]\n",
      "[56, 57]\n",
      "[57, 59]\n",
      "[59, 61]\n",
      "[61, 63]\n",
      "[63, 64]\n",
      "[64, 66]\n",
      "[66, 68]\n",
      "[68, 70]\n",
      "[70, 71]\n",
      "[71, 73]\n",
      "[73, 75]\n",
      "[75, 77]\n",
      "[77, 78]\n",
      "[78, 80]\n",
      "[80, 82]\n",
      "[82, 84]\n",
      "[84, 85]\n",
      "[85, 87]\n",
      "[87, 89]\n",
      "[89, 91]\n",
      "[91, 92]\n",
      "[92, 94]\n",
      "[94, 96]\n",
      "[96, 98]\n",
      "[98, 99]\n",
      "b is 57, r is 1.7543859649122806, band is 56, start is 98\n",
      "  returned: 34036, tp=1.0000, prec=0.0000, rec=0.1000\n",
      "Doing LSH with t= 0.3\n",
      "Using 35 bands for 100 rows\n",
      "[0, 2]\n",
      "[2, 5]\n",
      "[5, 8]\n",
      "[8, 11]\n",
      "[11, 14]\n",
      "[14, 17]\n",
      "[17, 20]\n",
      "[20, 22]\n",
      "[22, 25]\n",
      "[25, 28]\n",
      "[28, 31]\n",
      "[31, 34]\n",
      "[34, 37]\n",
      "[37, 40]\n",
      "[40, 42]\n",
      "[42, 45]\n",
      "[45, 48]\n",
      "[48, 51]\n",
      "[51, 54]\n",
      "[54, 57]\n",
      "[57, 60]\n",
      "[60, 62]\n",
      "[62, 65]\n",
      "[65, 68]\n",
      "[68, 71]\n",
      "[71, 74]\n",
      "[74, 77]\n",
      "[77, 80]\n",
      "[80, 82]\n",
      "[82, 85]\n",
      "[85, 88]\n",
      "[88, 91]\n",
      "[91, 94]\n",
      "[94, 97]\n",
      "[97, 100]\n",
      "b is 35, r is 2.857142857142857, band is 34, start is 97\n",
      "  returned: 43, tp=0.0000, prec=0.0000, rec=0.0000\n",
      "Doing LSH with t= 0.5\n",
      "Using 23 bands for 100 rows\n",
      "[0, 4]\n",
      "[4, 8]\n",
      "[8, 13]\n",
      "[13, 17]\n",
      "[17, 21]\n",
      "[21, 26]\n",
      "[26, 30]\n",
      "[30, 34]\n",
      "[34, 39]\n",
      "[39, 43]\n",
      "[43, 47]\n",
      "[47, 52]\n",
      "[52, 56]\n",
      "[56, 60]\n",
      "[60, 65]\n",
      "[65, 69]\n",
      "[69, 73]\n",
      "[73, 78]\n",
      "[78, 82]\n",
      "[82, 86]\n",
      "[86, 91]\n",
      "[91, 95]\n",
      "[95, 99]\n",
      "b is 23, r is 4.3478260869565215, band is 22, start is 95\n",
      "  returned: 10, tp=0.0000, prec=0.0000, rec=0.0000\n",
      "Doing LSH with t= 0.7\n",
      "Using 14 bands for 100 rows\n",
      "[0, 7]\n",
      "[7, 14]\n",
      "[14, 21]\n",
      "[21, 28]\n",
      "[28, 35]\n",
      "[35, 42]\n",
      "[42, 50]\n",
      "[50, 57]\n",
      "[57, 64]\n",
      "[64, 71]\n",
      "[71, 78]\n",
      "[78, 85]\n",
      "[85, 92]\n",
      "[92, 100]\n",
      "b is 14, r is 7.142857142857143, band is 13, start is 92\n",
      "  returned: 10, tp=0.0000, prec=0.0000, rec=0.0000\n",
      "Doing LSH with t= 0.9\n",
      "Using 6 bands for 100 rows\n",
      "[0, 16]\n",
      "[16, 33]\n",
      "[33, 50]\n",
      "[50, 66]\n",
      "[66, 83]\n",
      "[83, 100]\n",
      "b is 6, r is 16.666666666666668, band is 5, start is 83\n",
      "  returned: 10, tp=0.0000, prec=0.0000, rec=0.0000\n",
      "Doing LSH with t= 0.95\n",
      "Using 4 bands for 100 rows\n",
      "[0, 25]\n"
     ]
    },
    {
     "name": "stderr",
     "output_type": "stream",
     "text": [
      "/Users/YZ/Desktop/DATA606/pp1/data606_plagiarism/plagiarism_lib/lsh.py:30: RuntimeWarning: invalid value encountered in double_scalars\n",
      "  cur_t = (1/x[0])**(x[0]/n)\n"
     ]
    },
    {
     "name": "stdout",
     "output_type": "stream",
     "text": [
      "[25, 50]\n",
      "[50, 75]\n",
      "[75, 100]\n",
      "b is 4, r is 25.0, band is 3, start is 75\n",
      "  returned: 10, tp=0.0000, prec=0.0000, rec=0.0000\n",
      "Doing LSH with t= 0.99\n",
      "Using 2 bands for 100 rows\n",
      "[0, 50]\n",
      "[50, 100]\n",
      "b is 2, r is 50.0, band is 1, start is 50\n",
      "  returned: 8, tp=0.0000, prec=0.0000, rec=0.0000\n"
     ]
    }
   ],
   "source": [
    "import plagiarism_lib.lsh_experiment as lsh_exp\n",
    "\n",
    "csv_file = RESDIR_PATH + '/lsh_df.csv'\n",
    "DEFAULT_TS = [.01, .05, .10, .30, .50, .70, .90, .95, .99]\n",
    "\n",
    "truthfile = DATA_PATH + '/articles_%d.truth' % numdocs\n",
    "\n",
    "\n",
    "RUN_LSH_EXP = True\n",
    "if RUN_LSH_EXP:  \n",
    "    exp_df = lsh_exp.run(mh, truthfile, ts=DEFAULT_TS)\n",
    "    exp_df.to_csv(csv_file, index=False)\n",
    "else:\n",
    "    exp_df = pd.read_csv(csv_file)"
   ]
  },
  {
   "cell_type": "markdown",
   "metadata": {},
   "source": [
    "The following chunk plots precision and recall of this system as a function of the LSH threshold chosen. "
   ]
  },
  {
   "cell_type": "code",
   "execution_count": 43,
   "metadata": {},
   "outputs": [
    {
     "data": {
      "image/png": "[encoded data removed]",
      "text/plain": [
       "<Figure size 432x288 with 1 Axes>"
      ]
     },
     "metadata": {
      "needs_background": "light"
     },
     "output_type": "display_data"
    }
   ],
   "source": [
    "import matplotlib.pyplot as plt\n",
    "%matplotlib inline\n",
    "\n",
    "plot_df = exp_df.melt(id_vars=['t'])\n",
    "\n",
    "fig, ax = plt.subplots()\n",
    "labels = []\n",
    "\n",
    "for key, grp in plot_df.groupby('variable'):\n",
    "    ax = grp.plot(ax=ax, kind='line', x='t', y='value')\n",
    "    labels.append(key)\n",
    "lines, _ = ax.get_legend_handles_labels()\n",
    "ax.legend(lines, labels, loc='best')\n",
    "plt.show()"
   ]
  },
  {
   "cell_type": "markdown",
   "metadata": {},
   "source": [
    "**TODO**: Comment on the behavior of precision and recall as a function of similarity threshold. "
   ]
  },
  {
   "cell_type": "code",
   "execution_count": null,
   "metadata": {},
   "outputs": [],
   "source": []
  }
 ],
 "metadata": {
  "kernelspec": {
   "display_name": "Python 3",
   "language": "python",
   "name": "python3"
  },
  "language_info": {
   "codemirror_mode": {
    "name": "ipython",
    "version": 3
   },
   "file_extension": ".py",
   "mimetype": "text/x-python",
   "name": "python",
   "nbconvert_exporter": "python",
   "pygments_lexer": "ipython3",
   "version": "3.7.2"
  }
 },
 "nbformat": 4,
 "nbformat_minor": 4
}
